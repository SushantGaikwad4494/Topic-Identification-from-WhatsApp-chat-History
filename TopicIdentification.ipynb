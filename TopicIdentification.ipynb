{
 "metadata": {
  "language_info": {
   "codemirror_mode": {
    "name": "ipython",
    "version": 3
   },
   "file_extension": ".py",
   "mimetype": "text/x-python",
   "name": "python",
   "nbconvert_exporter": "python",
   "pygments_lexer": "ipython3",
   "version": "3.8.5-final"
  },
  "orig_nbformat": 2,
  "kernelspec": {
   "name": "python3",
   "display_name": "Python 3",
   "language": "python"
  }
 },
 "nbformat": 4,
 "nbformat_minor": 2,
 "cells": [
  {
   "cell_type": "code",
   "execution_count": 1,
   "metadata": {},
   "outputs": [],
   "source": [
    "import pandas as pd\n",
    "import re\n",
    "import gensim\n",
    "from nltk import sent_tokenize"
   ]
  },
  {
   "cell_type": "code",
   "execution_count": 2,
   "metadata": {},
   "outputs": [],
   "source": [
    "file_path = \"sample.txt\"\n",
    "f = open(file_path, 'r')\n",
    "data = f.readlines()\n",
    "f.close()"
   ]
  },
  {
   "cell_type": "code",
   "execution_count": 3,
   "metadata": {},
   "outputs": [
    {
     "output_type": "stream",
     "name": "stdout",
     "text": [
      "num lines: 101\n"
     ]
    }
   ],
   "source": [
    "# stats\n",
    "print('num lines: %s' %(len(data)))"
   ]
  },
  {
   "cell_type": "code",
   "execution_count": 4,
   "metadata": {},
   "outputs": [],
   "source": [
    "# parse text and create list of lists structure\n",
    "# remove first whatsapp info message\n",
    "dataset = data[1:]\n",
    "cleaned_data = []"
   ]
  },
  {
   "cell_type": "code",
   "execution_count": 5,
   "metadata": {},
   "outputs": [],
   "source": [
    "for line in dataset:\n",
    "\t# grab the info and cut it out\n",
    "\tdate = line.split(\",\")[0]\n",
    "\tline2 = line[len(date):]\n",
    "\ttime = line2.split(\"-\")[0][2:]\n",
    "\tline3 = line2[len(time):]\n",
    "\tname = line3.split(\":\")[0][4:]\n",
    "\tline4 = line3[len(name):]\n",
    "\tmessage = line4[6:-1] # strip newline charactor\n",
    "    #print(date, time, name, message)\n",
    "\tcleaned_data.append([date, time, name, message ])\n"
   ]
  },
  {
   "cell_type": "code",
   "execution_count": 6,
   "metadata": {},
   "outputs": [],
   "source": [
    "# Create the DataFrame \n",
    "df = pd.DataFrame(cleaned_data, columns = [ 'Date', 'Time', 'Name', 'Message']) "
   ]
  },
  {
   "cell_type": "code",
   "execution_count": 7,
   "metadata": {},
   "outputs": [
    {
     "output_type": "execute_result",
     "data": {
      "text/plain": [
       "      Date      Time             Name  \\\n",
       "0  12/9/20  8:29 AM   +91 70089 40269   \n",
       "1  12/9/20  8:29 AM   +91 70089 40269   \n",
       "2  12/9/20  8:30 AM           Sushant   \n",
       "3  12/9/20  8:30 AM           Sushant   \n",
       "4  12/9/20  8:31 AM   +91 70089 40269   \n",
       "\n",
       "                                             Message  \n",
       "0                                             Hi bro  \n",
       "1                     Have you done with ur project!  \n",
       "2                                        Not yet bro  \n",
       "3   I was confused about what to do in analysis part  \n",
       "4  He mentioned about Fibonacci heap or Fibonacci...  "
      ],
      "text/html": "<div>\n<style scoped>\n    .dataframe tbody tr th:only-of-type {\n        vertical-align: middle;\n    }\n\n    .dataframe tbody tr th {\n        vertical-align: top;\n    }\n\n    .dataframe thead th {\n        text-align: right;\n    }\n</style>\n<table border=\"1\" class=\"dataframe\">\n  <thead>\n    <tr style=\"text-align: right;\">\n      <th></th>\n      <th>Date</th>\n      <th>Time</th>\n      <th>Name</th>\n      <th>Message</th>\n    </tr>\n  </thead>\n  <tbody>\n    <tr>\n      <th>0</th>\n      <td>12/9/20</td>\n      <td>8:29 AM</td>\n      <td>+91 70089 40269</td>\n      <td>Hi bro</td>\n    </tr>\n    <tr>\n      <th>1</th>\n      <td>12/9/20</td>\n      <td>8:29 AM</td>\n      <td>+91 70089 40269</td>\n      <td>Have you done with ur project!</td>\n    </tr>\n    <tr>\n      <th>2</th>\n      <td>12/9/20</td>\n      <td>8:30 AM</td>\n      <td>Sushant</td>\n      <td>Not yet bro</td>\n    </tr>\n    <tr>\n      <th>3</th>\n      <td>12/9/20</td>\n      <td>8:30 AM</td>\n      <td>Sushant</td>\n      <td>I was confused about what to do in analysis part</td>\n    </tr>\n    <tr>\n      <th>4</th>\n      <td>12/9/20</td>\n      <td>8:31 AM</td>\n      <td>+91 70089 40269</td>\n      <td>He mentioned about Fibonacci heap or Fibonacci...</td>\n    </tr>\n  </tbody>\n</table>\n</div>"
     },
     "metadata": {},
     "execution_count": 7
    }
   ],
   "source": [
    "\n",
    "df.head()"
   ]
  },
  {
   "cell_type": "code",
   "execution_count": 8,
   "metadata": {},
   "outputs": [
    {
     "output_type": "execute_result",
     "data": {
      "text/plain": [
       "        Date      Time             Name  \\\n",
       "95  12/11/20  5:03 PM   +91 70089 40269   \n",
       "96  12/11/20  5:03 PM           Sushant   \n",
       "97  12/11/20  5:04 PM   +91 70089 40269   \n",
       "98  12/11/20  5:04 PM           Sushant   \n",
       "99  12/11/20  5:05 PM   +91 70089 40269   \n",
       "\n",
       "                                              Message  \n",
       "95                           Are you done with graph?  \n",
       "96                                       Not yet bro   \n",
       "97                                             Ok bro  \n",
       "98  Until then you strat with intro and formatting...  \n",
       "99                                             Ok bro  "
      ],
      "text/html": "<div>\n<style scoped>\n    .dataframe tbody tr th:only-of-type {\n        vertical-align: middle;\n    }\n\n    .dataframe tbody tr th {\n        vertical-align: top;\n    }\n\n    .dataframe thead th {\n        text-align: right;\n    }\n</style>\n<table border=\"1\" class=\"dataframe\">\n  <thead>\n    <tr style=\"text-align: right;\">\n      <th></th>\n      <th>Date</th>\n      <th>Time</th>\n      <th>Name</th>\n      <th>Message</th>\n    </tr>\n  </thead>\n  <tbody>\n    <tr>\n      <th>95</th>\n      <td>12/11/20</td>\n      <td>5:03 PM</td>\n      <td>+91 70089 40269</td>\n      <td>Are you done with graph?</td>\n    </tr>\n    <tr>\n      <th>96</th>\n      <td>12/11/20</td>\n      <td>5:03 PM</td>\n      <td>Sushant</td>\n      <td>Not yet bro</td>\n    </tr>\n    <tr>\n      <th>97</th>\n      <td>12/11/20</td>\n      <td>5:04 PM</td>\n      <td>+91 70089 40269</td>\n      <td>Ok bro</td>\n    </tr>\n    <tr>\n      <th>98</th>\n      <td>12/11/20</td>\n      <td>5:04 PM</td>\n      <td>Sushant</td>\n      <td>Until then you strat with intro and formatting...</td>\n    </tr>\n    <tr>\n      <th>99</th>\n      <td>12/11/20</td>\n      <td>5:05 PM</td>\n      <td>+91 70089 40269</td>\n      <td>Ok bro</td>\n    </tr>\n  </tbody>\n</table>\n</div>"
     },
     "metadata": {},
     "execution_count": 8
    }
   ],
   "source": [
    "df.tail()"
   ]
  },
  {
   "cell_type": "code",
   "execution_count": 9,
   "metadata": {},
   "outputs": [],
   "source": [
    "# Save it!\n",
    "df.to_excel(r'sample.xlsx', index=False)"
   ]
  },
  {
   "cell_type": "code",
   "execution_count": 10,
   "metadata": {},
   "outputs": [],
   "source": [
    "#Topic Modeling Begins from here\n",
    "twb_data = pd.read_excel(\"sample.xlsx\")"
   ]
  },
  {
   "cell_type": "code",
   "execution_count": 11,
   "metadata": {},
   "outputs": [
    {
     "output_type": "execute_result",
     "data": {
      "text/plain": [
       "      Date      Time             Name  \\\n",
       "0  12/9/20  8:29 AM   +91 70089 40269   \n",
       "1  12/9/20  8:29 AM   +91 70089 40269   \n",
       "2  12/9/20  8:30 AM           Sushant   \n",
       "3  12/9/20  8:30 AM           Sushant   \n",
       "4  12/9/20  8:31 AM   +91 70089 40269   \n",
       "\n",
       "                                             Message  \n",
       "0                                             Hi bro  \n",
       "1                     Have you done with ur project!  \n",
       "2                                        Not yet bro  \n",
       "3   I was confused about what to do in analysis part  \n",
       "4  He mentioned about Fibonacci heap or Fibonacci...  "
      ],
      "text/html": "<div>\n<style scoped>\n    .dataframe tbody tr th:only-of-type {\n        vertical-align: middle;\n    }\n\n    .dataframe tbody tr th {\n        vertical-align: top;\n    }\n\n    .dataframe thead th {\n        text-align: right;\n    }\n</style>\n<table border=\"1\" class=\"dataframe\">\n  <thead>\n    <tr style=\"text-align: right;\">\n      <th></th>\n      <th>Date</th>\n      <th>Time</th>\n      <th>Name</th>\n      <th>Message</th>\n    </tr>\n  </thead>\n  <tbody>\n    <tr>\n      <th>0</th>\n      <td>12/9/20</td>\n      <td>8:29 AM</td>\n      <td>+91 70089 40269</td>\n      <td>Hi bro</td>\n    </tr>\n    <tr>\n      <th>1</th>\n      <td>12/9/20</td>\n      <td>8:29 AM</td>\n      <td>+91 70089 40269</td>\n      <td>Have you done with ur project!</td>\n    </tr>\n    <tr>\n      <th>2</th>\n      <td>12/9/20</td>\n      <td>8:30 AM</td>\n      <td>Sushant</td>\n      <td>Not yet bro</td>\n    </tr>\n    <tr>\n      <th>3</th>\n      <td>12/9/20</td>\n      <td>8:30 AM</td>\n      <td>Sushant</td>\n      <td>I was confused about what to do in analysis part</td>\n    </tr>\n    <tr>\n      <th>4</th>\n      <td>12/9/20</td>\n      <td>8:31 AM</td>\n      <td>+91 70089 40269</td>\n      <td>He mentioned about Fibonacci heap or Fibonacci...</td>\n    </tr>\n  </tbody>\n</table>\n</div>"
     },
     "metadata": {},
     "execution_count": 11
    }
   ],
   "source": [
    "twb_data.head()"
   ]
  },
  {
   "cell_type": "code",
   "execution_count": 12,
   "metadata": {},
   "outputs": [
    {
     "output_type": "stream",
     "name": "stdout",
     "text": [
      "<class 'pandas.core.frame.DataFrame'>\nRangeIndex: 100 entries, 0 to 99\nData columns (total 4 columns):\n #   Column   Non-Null Count  Dtype \n---  ------   --------------  ----- \n 0   Date     100 non-null    object\n 1   Time     100 non-null    object\n 2   Name     100 non-null    object\n 3   Message  100 non-null    object\ndtypes: object(4)\nmemory usage: 3.2+ KB\n"
     ]
    }
   ],
   "source": [
    "twb_data.info()"
   ]
  },
  {
   "cell_type": "code",
   "execution_count": 13,
   "metadata": {},
   "outputs": [
    {
     "output_type": "execute_result",
     "data": {
      "text/plain": [
       "[['bro'],\n",
       " ['have', 'you', 'done', 'with', 'project'],\n",
       " ['not', 'yet', 'bro'],\n",
       " ['was', 'confused', 'about', 'what', 'analysis', 'part'],\n",
       " ['mentioned', 'about', 'fibonacci', 'heap', 'fibonacci', 'sequence'],\n",
       " ['you', 'know'],\n",
       " ['mailed', 'sir', 'about', 'and', 'told', 'this'],\n",
       " ['heaps'],\n",
       " ['bro'],\n",
       " ['what', 'other', 'things', 'you', 'asked'],\n",
       " ['how', 'much', 'completed', 'till', 'now'],\n",
       " ['was', 'doing', 'project', 'now', 'started', 'aads'],\n",
       " ['asked',\n",
       "  'sir',\n",
       "  'that',\n",
       "  'need',\n",
       "  'elaborate',\n",
       "  'time',\n",
       "  'complexity',\n",
       "  'different',\n",
       "  'operations',\n",
       "  'compare',\n",
       "  'both',\n",
       "  'heaps',\n",
       "  'sir',\n",
       "  'said',\n",
       "  'just',\n",
       "  'run',\n",
       "  'some',\n",
       "  'input',\n",
       "  'and',\n",
       "  'make',\n",
       "  'graph'],\n",
       " ['using', 'code'],\n",
       " ['yes', 'need', 'implement', 'codes', 'performing', 'this', 'operations'],\n",
       " ['yes'],\n",
       " ['output', 'will', 'graph'],\n",
       " [],\n",
       " ['have',\n",
       "  'measure',\n",
       "  'time',\n",
       "  'for',\n",
       "  'different',\n",
       "  'outputs',\n",
       "  'and',\n",
       "  'from',\n",
       "  'that',\n",
       "  'time',\n",
       "  'and',\n",
       "  'elements',\n",
       "  'manually',\n",
       "  'plot',\n",
       "  'the',\n",
       "  'graph'],\n",
       " [],\n",
       " ['you', 'started', 'project', 'today'],\n",
       " ['yes', 'bro'],\n",
       " ['same', 'here'],\n",
       " ['bro'],\n",
       " ['what', 'point', 'need', 'mention', 'report'],\n",
       " ['still',\n",
       "  'not',\n",
       "  'confirm',\n",
       "  'about',\n",
       "  'will',\n",
       "  'ask',\n",
       "  'someone',\n",
       "  'and',\n",
       "  'got',\n",
       "  'something',\n",
       "  'will',\n",
       "  'share',\n",
       "  'with',\n",
       "  'you'],\n",
       " ['okk', 'bro'],\n",
       " ['bro',\n",
       "  'have',\n",
       "  'write',\n",
       "  'program',\n",
       "  'one',\n",
       "  'for',\n",
       "  'fibonacci',\n",
       "  'and',\n",
       "  'one',\n",
       "  'for',\n",
       "  'binomial',\n",
       "  'right'],\n",
       " ['yes'],\n",
       " ['how', 'plot', 'graph'],\n",
       " ['any', 'idea'],\n",
       " ['think',\n",
       "  'for',\n",
       "  'each',\n",
       "  'heap',\n",
       "  'for',\n",
       "  'every',\n",
       "  'operation',\n",
       "  'graph',\n",
       "  'has',\n",
       "  'format',\n",
       "  'elements',\n",
       "  'time'],\n",
       " ['you',\n",
       "  'are',\n",
       "  'including',\n",
       "  'all',\n",
       "  'insertion',\n",
       "  'deletion',\n",
       "  'and',\n",
       "  'min',\n",
       "  'max',\n",
       "  'one',\n",
       "  'code'],\n",
       " ['thinking', 'doing', 'like', 'that', 'only'],\n",
       " ['yes'],\n",
       " ['done', 'with', 'the', 'code'],\n",
       " ['sir', 'gave', 'code', 'for', 'this', 'google', 'classroom'],\n",
       " ['did', 'used', 'this'],\n",
       " [],\n",
       " ['bdw', 'what', 'are', 'you', 'thinking', 'about', 'graph', 'plotting'],\n",
       " ['starting',\n",
       "  'write',\n",
       "  'report',\n",
       "  'tomorrow',\n",
       "  'then',\n",
       "  'once',\n",
       "  'plot',\n",
       "  'the',\n",
       "  'graph',\n",
       "  'will',\n",
       "  'send',\n",
       "  'you',\n",
       "  'for',\n",
       "  'reference'],\n",
       " ['bro'],\n",
       " ['bro',\n",
       "  'are',\n",
       "  'you',\n",
       "  'drawing',\n",
       "  'that',\n",
       "  'graph',\n",
       "  'using',\n",
       "  'pen',\n",
       "  'paper',\n",
       "  'powerpoint',\n",
       "  'something',\n",
       "  'else'],\n",
       " ['going', 'use', 'excel'],\n",
       " ['started', 'report'],\n",
       " ['not', 'yet', 'bro'],\n",
       " ['got', 'stuck', 'nlp', 'project'],\n",
       " ['ohh'],\n",
       " ['submitted', 'project'],\n",
       " ['today'],\n",
       " ['now', 'algo', 'remained'],\n",
       " ['don', 'know', 'what', 'properly'],\n",
       " ['sir', 'focusing', 'report', 'mostly'],\n",
       " ['code', 'for', 'just', 'collecting', 'data'],\n",
       " ['you', 'include', 'code', 'report'],\n",
       " [],\n",
       " ['just', 'heap', 'working', 'step', 'step'],\n",
       " ['for',\n",
       "  'each',\n",
       "  'operation',\n",
       "  'and',\n",
       "  'results',\n",
       "  'comparison',\n",
       "  'analysis',\n",
       "  'using',\n",
       "  'elements',\n",
       "  'for',\n",
       "  'each',\n",
       "  'operation'],\n",
       " ['most',\n",
       "  'probably',\n",
       "  'will',\n",
       "  'start',\n",
       "  'doing',\n",
       "  'report',\n",
       "  'today',\n",
       "  'night',\n",
       "  'only'],\n",
       " ['time'],\n",
       " ['yes'],\n",
       " ['only', 'for', 'insertion'],\n",
       " ['let', 'check'],\n",
       " ['what', 'about', 'deletion'],\n",
       " ['required', 'time', 'showing', 'for', 'all', 'operations'],\n",
       " ['ohh', 'that', 'time', 'for', 'all', 'operation'],\n",
       " [],\n",
       " ['after',\n",
       "  'doing',\n",
       "  'operation',\n",
       "  'first',\n",
       "  'will',\n",
       "  'show',\n",
       "  'time',\n",
       "  'then',\n",
       "  'print',\n",
       "  'the',\n",
       "  'heap'],\n",
       " ['this', 'one'],\n",
       " ['okk', 'bro'],\n",
       " ['binomial', 'heap'],\n",
       " ['okkk'],\n",
       " ['using', 'ubuntu'],\n",
       " ['yes'],\n",
       " ['what', 'project', 'name', 'nlp'],\n",
       " ['topic', 'identification', 'chat', 'history'],\n",
       " ['mine'],\n",
       " ['sir', 'has', 'given', 'choose'],\n",
       " ['sir', 'created', 'one', 'least', 'and', 'gave', 'time', 'select', 'topic'],\n",
       " ['first', 'come', 'first', 'serve'],\n",
       " ['have', 'you', 'done', 'lab', 'assignment'],\n",
       " ['not', 'all'],\n",
       " ['don', 'know', 'how', 'draw', 'the', 'graph'],\n",
       " ['use', 'excel'],\n",
       " ['first', 'run', 'both', 'codes', 'for', 'elements'],\n",
       " ['then'],\n",
       " ['then',\n",
       "  'perform',\n",
       "  'those',\n",
       "  'operations',\n",
       "  'for',\n",
       "  'both',\n",
       "  'heaps',\n",
       "  'and',\n",
       "  'write',\n",
       "  'down',\n",
       "  'time',\n",
       "  'taken',\n",
       "  'perform'],\n",
       " ['then', 'make', 'graph', 'for', 'each', 'operation'],\n",
       " ['like', 'for', 'insertion', 'for', 'deletion', 'for', 'extract', 'min'],\n",
       " ['graph'],\n",
       " ['for', 'each', 'heap'],\n",
       " ['hmm'],\n",
       " ['you', 'can', 'graph', 'for', 'each', 'heap'],\n",
       " ['okk', 'bro'],\n",
       " ['what', 'are', 'the', 'point', 'include', 'report'],\n",
       " ['are', 'you', 'done', 'with', 'graph'],\n",
       " ['not', 'yet', 'bro'],\n",
       " ['bro'],\n",
       " ['until',\n",
       "  'then',\n",
       "  'you',\n",
       "  'strat',\n",
       "  'with',\n",
       "  'intro',\n",
       "  'and',\n",
       "  'formatting',\n",
       "  'report'],\n",
       " ['bro']]"
      ]
     },
     "metadata": {},
     "execution_count": 13
    }
   ],
   "source": [
    "#Tokenization on only message column\n",
    "data = twb_data.to_dict()\n",
    "new_data = []\n",
    "for j in data['Message'].values():\n",
    "        if str(j) != 'nan':\n",
    "            new_data.append(gensim.utils.simple_preprocess(j, deacc=True, min_len=3))\n",
    "new_data"
   ]
  },
  {
   "cell_type": "code",
   "execution_count": 14,
   "metadata": {},
   "outputs": [],
   "source": [
    "texts = new_data"
   ]
  },
  {
   "cell_type": "code",
   "execution_count": 15,
   "metadata": {},
   "outputs": [],
   "source": [
    "#Creating Bigram of Tokened data\n",
    "bigram = gensim.models.Phrases(new_data)"
   ]
  },
  {
   "cell_type": "code",
   "execution_count": 16,
   "metadata": {},
   "outputs": [
    {
     "output_type": "stream",
     "name": "stdout",
     "text": [
      "Phrases<493 vocab, min_count=5, threshold=10.0, max_vocab_size=40000000>\n"
     ]
    }
   ],
   "source": [
    "print(bigram)"
   ]
  },
  {
   "cell_type": "code",
   "execution_count": 18,
   "metadata": {},
   "outputs": [],
   "source": [
    "from gensim.utils import lemmatize\n",
    "from nltk.corpus import stopwords"
   ]
  },
  {
   "cell_type": "code",
   "execution_count": 19,
   "metadata": {},
   "outputs": [],
   "source": [
    "#Getting nglish stop words\n",
    "stops = set(stopwords.words('english'))"
   ]
  },
  {
   "cell_type": "code",
   "execution_count": 20,
   "metadata": {},
   "outputs": [],
   "source": [
    "#Function for Stop word removal and Lemmatization\n",
    "def process_texts(texts):\n",
    "    texts = [[word for word in line if word not in stops] for line in texts]\n",
    "    texts = [bigram[line] for line in texts]\n",
    "    texts = [[word.decode(\"utf-8\").split('/')[0] for word in lemmatize(' '.join(line), allowed_tags=re.compile('(NN)'), min_length=5)] for line in texts]\n",
    "    return texts"
   ]
  },
  {
   "cell_type": "code",
   "execution_count": 21,
   "metadata": {},
   "outputs": [],
   "source": [
    "#calling Function for Stop word removal and Lemmatization\n",
    "train_texts = process_texts(new_data)"
   ]
  },
  {
   "cell_type": "code",
   "execution_count": 22,
   "metadata": {},
   "outputs": [],
   "source": [
    "#Importing Lda and Dictionary library\n",
    "from gensim.models import LdaModel\n",
    "from gensim.models.wrappers import LdaMallet\n",
    "from gensim.corpora import Dictionary"
   ]
  },
  {
   "cell_type": "code",
   "execution_count": 26,
   "metadata": {},
   "outputs": [
    {
     "output_type": "execute_result",
     "data": {
      "text/plain": [
       "[[],\n",
       " ['project'],\n",
       " [],\n",
       " ['analysis'],\n",
       " ['fibonacci', 'sequence'],\n",
       " [],\n",
       " [],\n",
       " [],\n",
       " [],\n",
       " ['thing'],\n",
       " ['completed'],\n",
       " ['project'],\n",
       " ['complexity', 'operation', 'input', 'graph'],\n",
       " [],\n",
       " ['operation'],\n",
       " [],\n",
       " ['output', 'graph'],\n",
       " [],\n",
       " ['measure', 'output', 'element', 'graph'],\n",
       " [],\n",
       " ['project', 'today'],\n",
       " [],\n",
       " [],\n",
       " [],\n",
       " ['point', 'report'],\n",
       " ['someone', 'something', 'share'],\n",
       " [],\n",
       " ['write', 'program', 'binomial', 'right'],\n",
       " [],\n",
       " ['graph'],\n",
       " [],\n",
       " ['think', 'operation', 'graph', 'format', 'element'],\n",
       " ['insertion', 'deletion'],\n",
       " ['thinking'],\n",
       " [],\n",
       " [],\n",
       " ['google', 'classroom'],\n",
       " [],\n",
       " [],\n",
       " ['graph'],\n",
       " ['report', 'tomorrow', 'graph', 'reference'],\n",
       " [],\n",
       " ['graph', 'paper', 'powerpoint', 'something'],\n",
       " ['excel'],\n",
       " ['report'],\n",
       " [],\n",
       " ['project'],\n",
       " [],\n",
       " ['project'],\n",
       " ['today'],\n",
       " [],\n",
       " [],\n",
       " ['report'],\n",
       " ['datum'],\n",
       " ['report'],\n",
       " [],\n",
       " [],\n",
       " ['operation', 'result', 'comparison', 'analysis', 'element', 'operation'],\n",
       " ['report', 'today', 'night'],\n",
       " [],\n",
       " [],\n",
       " ['insertion'],\n",
       " [],\n",
       " ['deletion'],\n",
       " ['operation'],\n",
       " ['operation'],\n",
       " [],\n",
       " ['operation', 'print'],\n",
       " [],\n",
       " [],\n",
       " ['binomial'],\n",
       " [],\n",
       " ['ubuntu'],\n",
       " [],\n",
       " ['project'],\n",
       " ['topic', 'identification', 'history'],\n",
       " [],\n",
       " ['choose'],\n",
       " ['select', 'topic'],\n",
       " [],\n",
       " ['assignment'],\n",
       " [],\n",
       " ['graph'],\n",
       " ['excel'],\n",
       " ['element'],\n",
       " [],\n",
       " ['perform', 'operation', 'perform'],\n",
       " ['graph', 'operation'],\n",
       " ['insertion', 'deletion', 'extract'],\n",
       " ['graph'],\n",
       " [],\n",
       " [],\n",
       " ['graph'],\n",
       " [],\n",
       " ['point', 'report'],\n",
       " ['graph'],\n",
       " [],\n",
       " [],\n",
       " ['strat', 'intro', 'report'],\n",
       " []]"
      ]
     },
     "metadata": {},
     "execution_count": 26
    }
   ],
   "source": [
    "train_texts"
   ]
  },
  {
   "cell_type": "code",
   "execution_count": 23,
   "metadata": {},
   "outputs": [],
   "source": [
    "#Making corpus into Dictionary format, which is nothing but converting corpus into number matrix format \n",
    "dictionary = Dictionary(train_texts)\n",
    "corpus = [dictionary.doc2bow(text) for text in train_texts]"
   ]
  },
  {
   "cell_type": "code",
   "execution_count": 24,
   "metadata": {},
   "outputs": [
    {
     "output_type": "stream",
     "name": "stdout",
     "text": [
      "[[], [(0, 1)], [], [(1, 1)], [(2, 1), (3, 1)], [], [], [], [], [(4, 1)], [(5, 1)], [(0, 1)], [(6, 1), (7, 1), (8, 1), (9, 1)], [], [(9, 1)], [], [(7, 1), (10, 1)], [], [(7, 1), (10, 1), (11, 1), (12, 1)], [], [(0, 1), (13, 1)], [], [], [], [(14, 1), (15, 1)], [(16, 1), (17, 1), (18, 1)], [], [(19, 1), (20, 1), (21, 1), (22, 1)], [], [(7, 1)], [], [(7, 1), (9, 1), (11, 1), (23, 1), (24, 1)], [(25, 1), (26, 1)], [(27, 1)], [], [], [(28, 1), (29, 1)], [], [], [(7, 1)], [(7, 1), (15, 1), (30, 1), (31, 1)], [], [(7, 1), (18, 1), (32, 1), (33, 1)], [(34, 1)], [(15, 1)], [], [(0, 1)], [], [(0, 1)], [(13, 1)], [], [], [(15, 1)], [(35, 1)], [(15, 1)], [], [], [(1, 1), (9, 2), (11, 1), (36, 1), (37, 1)], [(13, 1), (15, 1), (38, 1)], [], [], [(26, 1)], [], [(25, 1)], [(9, 1)], [(9, 1)], [], [(9, 1), (39, 1)], [], [], [(19, 1)], [], [(40, 1)], [], [(0, 1)], [(41, 1), (42, 1), (43, 1)], [], [(44, 1)], [(43, 1), (45, 1)], [], [(46, 1)], [], [(7, 1)], [(34, 1)], [(11, 1)], [], [(9, 1), (47, 2)], [(7, 1), (9, 1)], [(25, 1), (26, 1), (48, 1)], [(7, 1)], [], [], [(7, 1)], [], [(14, 1), (15, 1)], [(7, 1)], [], [], [(15, 1), (49, 1), (50, 1)], []]\n"
     ]
    }
   ],
   "source": [
    "print (corpus)"
   ]
  },
  {
   "cell_type": "code",
   "execution_count": 25,
   "metadata": {},
   "outputs": [],
   "source": [
    "#Applying LDA Model on corpus\n",
    "ldamodel = LdaModel(corpus=corpus, num_topics=2, id2word=dictionary)"
   ]
  },
  {
   "cell_type": "code",
   "execution_count": 26,
   "metadata": {},
   "outputs": [
    {
     "output_type": "execute_result",
     "data": {
      "text/plain": [
       "[(0,\n",
       "  '0.126*\"graph\" + 0.083*\"report\" + 0.082*\"operation\" + 0.035*\"element\" + 0.027*\"insertion\" + 0.026*\"output\" + 0.026*\"point\" + 0.025*\"topic\" + 0.021*\"analysis\" + 0.021*\"project\"'),\n",
       " (1,\n",
       "  '0.079*\"project\" + 0.060*\"operation\" + 0.048*\"graph\" + 0.043*\"deletion\" + 0.037*\"today\" + 0.034*\"something\" + 0.033*\"perform\" + 0.031*\"element\" + 0.030*\"excel\" + 0.029*\"report\"')]"
      ]
     },
     "metadata": {},
     "execution_count": 26
    }
   ],
   "source": [
    "ldamodel.show_topics()"
   ]
  },
  {
   "cell_type": "code",
   "execution_count": 29,
   "metadata": {},
   "outputs": [
    {
     "output_type": "stream",
     "name": "stderr",
     "text": [
      "/home/sushant/.local/lib/python3.8/site-packages/ipykernel/ipkernel.py:287: DeprecationWarning: `should_run_async` will not call `transform_cell` automatically in the future. Please pass the result to `transformed_cell` argument and any exception that happen during thetransform in `preprocessing_exc_tuple` in IPython 7.17 and above.\n  and should_run_async(code)\n"
     ]
    }
   ],
   "source": [
    "#Using Graphical representation Library and saving HLML file\n",
    "import pyLDAvis.gensim\n",
    "pyLDAvis.enable_notebook()\n",
    "visualisation = pyLDAvis.gensim.prepare(ldamodel, corpus, dictionary)\n",
    "pyLDAvis.save_html(visualisation, 'LDA_Visualization.html')"
   ]
  },
  {
   "cell_type": "code",
   "execution_count": 32,
   "metadata": {},
   "outputs": [
    {
     "output_type": "stream",
     "name": "stderr",
     "text": [
      "/home/sushant/.local/lib/python3.8/site-packages/ipykernel/ipkernel.py:287: DeprecationWarning: `should_run_async` will not call `transform_cell` automatically in the future. Please pass the result to `transformed_cell` argument and any exception that happen during thetransform in `preprocessing_exc_tuple` in IPython 7.17 and above.\n  and should_run_async(code)\n"
     ]
    },
    {
     "output_type": "execute_result",
     "data": {
      "text/plain": [
       "PreparedData(topic_coordinates=             x    y  topics  cluster      Freq\n",
       "topic                                         \n",
       "0      0.02562  0.0       1        1  64.91469\n",
       "1     -0.02562  0.0       2        1  35.08531, topic_info=         Term      Freq     Total Category  logprob  loglift\n",
       "13      today  2.000000  2.000000  Default  30.0000  30.0000\n",
       "34      excel  1.000000  1.000000  Default  29.0000  29.0000\n",
       "45     select  1.000000  1.000000  Default  28.0000  28.0000\n",
       "16      share  1.000000  1.000000  Default  27.0000  27.0000\n",
       "17    someone  1.000000  1.000000  Default  26.0000  26.0000\n",
       "..        ...       ...       ...      ...      ...      ...\n",
       "0     project  1.258935  4.703258   Topic2  -3.3375  -0.2706\n",
       "11    element  0.800679  3.373209   Topic2  -3.7900  -0.3908\n",
       "7       graph  1.375385  9.565683   Topic2  -3.2490  -0.8921\n",
       "25   deletion  0.641854  2.698384   Topic2  -4.0111  -0.3887\n",
       "26  insertion  0.522965  2.714951   Topic2  -4.2160  -0.5996\n",
       "\n",
       "[101 rows x 6 columns], token_table=      Topic      Freq        Term\n",
       "term                             \n",
       "1         1  0.986538    analysis\n",
       "46        1  0.750947  assignment\n",
       "19        1  0.502179    binomial\n",
       "19        2  0.502179    binomial\n",
       "44        1  0.774339      choose\n",
       "...     ...       ...         ...\n",
       "43        1  0.510503       topic\n",
       "43        2  0.510503       topic\n",
       "40        1  0.767511      ubuntu\n",
       "40        2  0.767511      ubuntu\n",
       "22        1  0.751427       write\n",
       "\n",
       "[75 rows x 3 columns], R=30, lambda_step=0.01, plot_opts={'xlab': 'PC1', 'ylab': 'PC2'}, topic_order=[1, 2])"
      ],
      "text/html": "\n<link rel=\"stylesheet\" type=\"text/css\" href=\"https://cdn.rawgit.com/bmabey/pyLDAvis/files/ldavis.v1.0.0.css\">\n\n\n<div id=\"ldavis_el45951399342993352481851681465\"></div>\n<script type=\"text/javascript\">\n\nvar ldavis_el45951399342993352481851681465_data = {\"mdsDat\": {\"x\": [0.02562005445361137, -0.02562005445361137], \"y\": [0.0, 0.0], \"topics\": [1, 2], \"cluster\": [1, 1], \"Freq\": [64.91469004905936, 35.08530995094065]}, \"tinfo\": {\"Term\": [\"today\", \"excel\", \"select\", \"share\", \"someone\", \"print\", \"night\", \"thinking\", \"google\", \"report\", \"classroom\", \"choose\", \"topic\", \"sequence\", \"fibonacci\", \"graph\", \"thing\", \"ubuntu\", \"perform\", \"something\", \"binomial\", \"datum\", \"reference\", \"completed\", \"tomorrow\", \"input\", \"write\", \"assignment\", \"complexity\", \"point\", \"graph\", \"insertion\", \"output\", \"analysis\", \"element\", \"deletion\", \"operation\", \"paper\", \"project\", \"result\", \"powerpoint\", \"comparison\", \"strat\", \"think\", \"right\", \"point\", \"format\", \"program\", \"intro\", \"measure\", \"extract\", \"history\", \"identification\", \"complexity\", \"assignment\", \"write\", \"input\", \"binomial\", \"tomorrow\", \"completed\", \"report\", \"something\", \"perform\", \"topic\", \"today\", \"select\", \"share\", \"someone\", \"print\", \"night\", \"thinking\", \"google\", \"excel\", \"classroom\", \"choose\", \"sequence\", \"fibonacci\", \"thing\", \"ubuntu\", \"topic\", \"perform\", \"something\", \"datum\", \"reference\", \"report\", \"completed\", \"tomorrow\", \"binomial\", \"input\", \"write\", \"assignment\", \"complexity\", \"identification\", \"history\", \"point\", \"operation\", \"project\", \"element\", \"graph\", \"deletion\", \"insertion\"], \"Freq\": [2.0, 1.0, 1.0, 1.0, 1.0, 1.0, 1.0, 1.0, 1.0, 5.0, 1.0, 1.0, 1.0, 1.0, 1.0, 9.0, 1.0, 1.0, 1.0, 1.0, 1.0, 1.0, 1.0, 1.0, 1.0, 1.0, 1.0, 1.0, 1.0, 2.0, 8.190298765453994, 2.1919863481552877, 1.6128316343884157, 1.5710063809041985, 2.572530734018562, 2.0565299096287104, 5.471959541335072, 0.9928073341294773, 3.4443227586639917, 0.9782159337644963, 0.9658379976168475, 0.965278861290279, 0.9625892427566225, 0.9475370144068634, 0.9419458343244234, 1.4073933341893554, 0.9377072182662074, 0.9361477182355684, 0.9355567080242703, 0.9295804156985553, 0.9265224767191348, 0.926333920098359, 0.9174851923599064, 0.8943551934912268, 0.8847784955348699, 0.8778366443217432, 0.8627071737034345, 1.2769094659249205, 0.8462848567989583, 0.8319164515049207, 3.742713855285976, 1.1663057425694667, 1.1230352953998477, 1.0113040181068145, 1.7289465260005237, 0.8208091088977593, 0.8047030974048823, 0.8024002490409701, 0.7950593712144562, 0.7903905737088535, 0.778248096321413, 0.7729008334447003, 1.1156602980354915, 0.7393339258716545, 0.7356437844665914, 0.7163214814469662, 0.698824414628071, 0.6598436451356576, 0.65315918701103, 0.9475491332250033, 0.8494795677282182, 0.8114984439256054, 0.507658793211874, 0.5058663614949889, 2.2204944563521916, 0.49326947270104915, 0.480660868020022, 0.7144142010341251, 0.46624620159008967, 0.45296550102022826, 0.44687376777472965, 0.4384687243731871, 0.4181661811330781, 0.41040072615901446, 0.5998903156717277, 1.9261380406770376, 1.2589351023205146, 0.8006787066915888, 1.3753846834901047, 0.6418539830191077, 0.5229646921229244], \"Total\": [2.0, 1.0, 1.0, 1.0, 1.0, 1.0, 1.0, 1.0, 1.0, 5.0, 1.0, 1.0, 1.0, 1.0, 1.0, 9.0, 1.0, 1.0, 1.0, 1.0, 1.0, 1.0, 1.0, 1.0, 1.0, 1.0, 1.0, 1.0, 1.0, 2.0, 9.565683448944098, 2.714951040278212, 2.0324053060919334, 2.027291768295027, 3.3732094407101507, 2.698383892647818, 7.3980975820121095, 1.3448610284480012, 4.703257860984507, 1.3430784589244968, 1.3415626682218713, 1.3414933219805565, 1.341165890303723, 1.3393254533062517, 1.33863976465108, 2.0072836498610833, 1.3381237644567836, 1.3379335711054288, 1.337861492185858, 1.3371291979179922, 1.3367558142040434, 1.3367346462573735, 1.3356513734929845, 1.332823917864414, 1.3316522633095995, 1.3308021453419716, 1.328953375293524, 1.9913236669590457, 1.3269457248189802, 1.3251859242059698, 5.963208311638168, 1.9778041864950722, 1.9725148631280658, 1.9588531513318177, 2.546947279072298, 1.279560467342959, 1.2818058755136805, 1.2821254784933815, 1.2831472211326531, 1.2837984619755025, 1.2854885788888004, 1.2862352425120012, 1.935432799458441, 1.2909112568727603, 1.2914234612432898, 1.2941165481041186, 1.2965545811678763, 1.3019808498227763, 1.3029126625603906, 1.9588531513318177, 1.9725148631280658, 1.9778041864950722, 1.3231816875818732, 1.323432787091511, 5.963208311638168, 1.3251859242059698, 1.3269457248189802, 1.9913236669590457, 1.328953375293524, 1.3308021453419716, 1.3316522633095995, 1.332823917864414, 1.3356513734929845, 1.3367346462573735, 2.0072836498610833, 7.3980975820121095, 4.703257860984507, 3.3732094407101507, 9.565683448944098, 2.698383892647818, 2.714951040278212], \"Category\": [\"Default\", \"Default\", \"Default\", \"Default\", \"Default\", \"Default\", \"Default\", \"Default\", \"Default\", \"Default\", \"Default\", \"Default\", \"Default\", \"Default\", \"Default\", \"Default\", \"Default\", \"Default\", \"Default\", \"Default\", \"Default\", \"Default\", \"Default\", \"Default\", \"Default\", \"Default\", \"Default\", \"Default\", \"Default\", \"Default\", \"Topic1\", \"Topic1\", \"Topic1\", \"Topic1\", \"Topic1\", \"Topic1\", \"Topic1\", \"Topic1\", \"Topic1\", \"Topic1\", \"Topic1\", \"Topic1\", \"Topic1\", \"Topic1\", \"Topic1\", \"Topic1\", \"Topic1\", \"Topic1\", \"Topic1\", \"Topic1\", \"Topic1\", \"Topic1\", \"Topic1\", \"Topic1\", \"Topic1\", \"Topic1\", \"Topic1\", \"Topic1\", \"Topic1\", \"Topic1\", \"Topic1\", \"Topic1\", \"Topic1\", \"Topic1\", \"Topic2\", \"Topic2\", \"Topic2\", \"Topic2\", \"Topic2\", \"Topic2\", \"Topic2\", \"Topic2\", \"Topic2\", \"Topic2\", \"Topic2\", \"Topic2\", \"Topic2\", \"Topic2\", \"Topic2\", \"Topic2\", \"Topic2\", \"Topic2\", \"Topic2\", \"Topic2\", \"Topic2\", \"Topic2\", \"Topic2\", \"Topic2\", \"Topic2\", \"Topic2\", \"Topic2\", \"Topic2\", \"Topic2\", \"Topic2\", \"Topic2\", \"Topic2\", \"Topic2\", \"Topic2\", \"Topic2\", \"Topic2\", \"Topic2\"], \"logprob\": [30.0, 29.0, 28.0, 27.0, 26.0, 25.0, 24.0, 23.0, 22.0, 21.0, 20.0, 19.0, 18.0, 17.0, 16.0, 15.0, 14.0, 13.0, 12.0, 11.0, 10.0, 9.0, 8.0, 7.0, 6.0, 5.0, 4.0, 3.0, 2.0, 1.0, -2.0801000595092773, -3.398200035095215, -3.7049999237060547, -3.731300115585327, -3.238100051879883, -3.4619998931884766, -2.4834001064300537, -4.190199851989746, -2.9463000297546387, -4.204999923706055, -4.217800140380859, -4.218400001525879, -4.221199989318848, -4.2368998527526855, -4.242800235748291, -3.8413000106811523, -4.247300148010254, -4.249000072479248, -4.249599933624268, -4.25600004196167, -4.259300231933594, -4.259500026702881, -4.269100189208984, -4.2947001457214355, -4.3053998947143555, -4.313300132751465, -4.330699920654297, -3.9386000633239746, -4.349899768829346, -4.367000102996826, -2.8631999492645264, -4.029200077056885, -4.066999912261963, -4.171800136566162, -3.02020001411438, -3.765199899673462, -3.7850000858306885, -3.787899971008301, -3.797100067138672, -3.802999973297119, -3.8183999061584473, -3.8252999782562256, -3.4583001136779785, -3.8696999549865723, -3.8747000694274902, -3.901400089263916, -3.926100015640259, -3.9835000038146973, -3.9937000274658203, -3.6215999126434326, -3.7309000492095947, -3.776599884033203, -4.245699882507324, -4.249199867248535, -2.7699999809265137, -4.274400234222412, -4.300300121307373, -3.9040000438690186, -4.3308000564575195, -4.3597002029418945, -4.373199939727783, -4.392199993133545, -4.439599990844727, -4.458399772644043, -4.078700065612793, -2.9121999740600586, -3.3375000953674316, -3.7899999618530273, -3.249000072479248, -4.011099815368652, -4.216000080108643], \"loglift\": [30.0, 29.0, 28.0, 27.0, 26.0, 25.0, 24.0, 23.0, 22.0, 21.0, 20.0, 19.0, 18.0, 17.0, 16.0, 15.0, 14.0, 13.0, 12.0, 11.0, 10.0, 9.0, 8.0, 7.0, 6.0, 5.0, 4.0, 3.0, 2.0, 1.0, 0.2769, 0.2181, 0.2009, 0.1771, 0.1611, 0.1605, 0.1305, 0.1286, 0.1206, 0.1151, 0.1035, 0.103, 0.1004, 0.086, 0.0806, 0.0771, 0.0765, 0.075, 0.0744, 0.0685, 0.0655, 0.0653, 0.0566, 0.0331, 0.0233, 0.016, 0.0, -0.0123, -0.0177, -0.0335, -0.0337, -0.096, -0.1312, -0.229, 0.66, 0.6034, 0.5818, 0.5787, 0.5687, 0.5623, 0.5455, 0.5381, 0.4965, 0.49, 0.4846, 0.4559, 0.4293, 0.3677, 0.3569, 0.3212, 0.2049, 0.1565, 0.0894, 0.0857, 0.0595, 0.0591, 0.0319, 0.0223, -0.0, -0.0303, -0.0445, -0.0644, -0.1139, -0.1335, -0.1604, -0.2983, -0.2706, -0.3908, -0.8921, -0.3887, -0.5996]}, \"token.table\": {\"Topic\": [1, 1, 1, 2, 1, 2, 1, 2, 1, 1, 1, 1, 2, 1, 2, 1, 2, 1, 2, 1, 1, 2, 1, 1, 2, 1, 2, 1, 1, 1, 1, 2, 1, 1, 2, 1, 2, 1, 1, 1, 2, 1, 2, 1, 2, 1, 1, 2, 1, 2, 1, 2, 1, 1, 2, 1, 2, 2, 2, 1, 2, 1, 1, 2, 1, 1, 2, 1, 2, 1, 1, 2, 1, 2, 1], \"Freq\": [0.9865378192118939, 0.75094679561064, 0.5021785341039521, 0.5021785341039521, 0.7743393472480915, 0.7743393472480915, 0.774646587576055, 0.774646587576055, 0.7454379262385131, 0.7546110939860639, 0.7502866557214113, 0.7557541110076192, 0.7557541110076192, 0.7411843827890177, 0.37059219139450883, 0.8893607268478473, 0.2964535756159491, 0.5166803002820934, 0.5166803002820934, 0.7480797834385624, 0.771274896193916, 0.771274896193916, 0.7473150291191142, 0.7774627587151264, 0.7774627587151264, 0.8363228871934995, 0.10454036089918743, 0.7480916297036421, 0.7486983653412553, 0.7524718463348132, 0.736661534712262, 0.368330767356131, 0.7474615315866183, 0.7478708875380726, 0.7789384623979103, 0.6758494254194626, 0.27033977016778504, 0.9840556871236256, 0.7435712529747566, 0.5069670290920768, 0.5069670290920768, 0.4981856949162149, 0.4981856949162149, 0.7453993940703613, 0.7793338001521642, 0.747421263354487, 0.6378557350398021, 0.21261857834660072, 0.7556107191493158, 0.7556107191493158, 0.6707798538906232, 0.3353899269453116, 0.7445581405577562, 0.7470269645401223, 0.7815183615953112, 0.7727279289218584, 0.7727279289218584, 0.780149333922543, 0.7799548614969374, 0.5056112262418307, 0.5056112262418307, 0.7456199171405546, 0.768060451992146, 0.768060451992146, 0.74664451237853, 0.7779143404482194, 0.7779143404482194, 0.392626894249747, 0.785253788499494, 0.7536103258001893, 0.5105027905333809, 0.5105027905333809, 0.7675111530767317, 0.7675111530767317, 0.7514265013023657], \"Term\": [\"analysis\", \"assignment\", \"binomial\", \"binomial\", \"choose\", \"choose\", \"classroom\", \"classroom\", \"comparison\", \"completed\", \"complexity\", \"datum\", \"datum\", \"deletion\", \"deletion\", \"element\", \"element\", \"excel\", \"excel\", \"extract\", \"fibonacci\", \"fibonacci\", \"format\", \"google\", \"google\", \"graph\", \"graph\", \"history\", \"identification\", \"input\", \"insertion\", \"insertion\", \"intro\", \"measure\", \"night\", \"operation\", \"operation\", \"output\", \"paper\", \"perform\", \"perform\", \"point\", \"point\", \"powerpoint\", \"print\", \"program\", \"project\", \"project\", \"reference\", \"reference\", \"report\", \"report\", \"result\", \"right\", \"select\", \"sequence\", \"sequence\", \"share\", \"someone\", \"something\", \"something\", \"strat\", \"thing\", \"thing\", \"think\", \"thinking\", \"thinking\", \"today\", \"today\", \"tomorrow\", \"topic\", \"topic\", \"ubuntu\", \"ubuntu\", \"write\"]}, \"R\": 30, \"lambda.step\": 0.01, \"plot.opts\": {\"xlab\": \"PC1\", \"ylab\": \"PC2\"}, \"topic.order\": [1, 2]};\n\nfunction LDAvis_load_lib(url, callback){\n  var s = document.createElement('script');\n  s.src = url;\n  s.async = true;\n  s.onreadystatechange = s.onload = callback;\n  s.onerror = function(){console.warn(\"failed to load library \" + url);};\n  document.getElementsByTagName(\"head\")[0].appendChild(s);\n}\n\nif(typeof(LDAvis) !== \"undefined\"){\n   // already loaded: just create the visualization\n   !function(LDAvis){\n       new LDAvis(\"#\" + \"ldavis_el45951399342993352481851681465\", ldavis_el45951399342993352481851681465_data);\n   }(LDAvis);\n}else if(typeof define === \"function\" && define.amd){\n   // require.js is available: use it to load d3/LDAvis\n   require.config({paths: {d3: \"https://cdnjs.cloudflare.com/ajax/libs/d3/3.5.5/d3.min\"}});\n   require([\"d3\"], function(d3){\n      window.d3 = d3;\n      LDAvis_load_lib(\"https://cdn.rawgit.com/bmabey/pyLDAvis/files/ldavis.v1.0.0.js\", function(){\n        new LDAvis(\"#\" + \"ldavis_el45951399342993352481851681465\", ldavis_el45951399342993352481851681465_data);\n      });\n    });\n}else{\n    // require.js not available: dynamically load d3 & LDAvis\n    LDAvis_load_lib(\"https://cdnjs.cloudflare.com/ajax/libs/d3/3.5.5/d3.min.js\", function(){\n         LDAvis_load_lib(\"https://cdn.rawgit.com/bmabey/pyLDAvis/files/ldavis.v1.0.0.js\", function(){\n                 new LDAvis(\"#\" + \"ldavis_el45951399342993352481851681465\", ldavis_el45951399342993352481851681465_data);\n            })\n         });\n}\n</script>"
     },
     "metadata": {},
     "execution_count": 32
    }
   ],
   "source": [
    "pyLDAvis.gensim.prepare(ldamodel, corpus, dictionary)"
   ]
  },
  {
   "cell_type": "code",
   "execution_count": 28,
   "metadata": {},
   "outputs": [
    {
     "output_type": "stream",
     "name": "stderr",
     "text": [
      "/home/sushant/.local/lib/python3.8/site-packages/ipykernel/ipkernel.py:287: DeprecationWarning: `should_run_async` will not call `transform_cell` automatically in the future. Please pass the result to `transformed_cell` argument and any exception that happen during thetransform in `preprocessing_exc_tuple` in IPython 7.17 and above.\n",
      "  and should_run_async(code)\n",
      "\n",
      "Coherence Score:  0.7221973163587267\n"
     ]
    }
   ],
   "source": [
    "from gensim.models import CoherenceModel\n",
    "# Compute Coherence Score\n",
    "coherence_model_lda = CoherenceModel(model=ldamodel, texts=train_texts, dictionary=dictionary, coherence='c_v')\n",
    "coherence_lda = coherence_model_lda.get_coherence()\n",
    "print('\\nCoherence Score: ', coherence_lda)"
   ]
  },
  {
   "cell_type": "code",
   "execution_count": null,
   "metadata": {},
   "outputs": [],
   "source": []
  }
 ]
}